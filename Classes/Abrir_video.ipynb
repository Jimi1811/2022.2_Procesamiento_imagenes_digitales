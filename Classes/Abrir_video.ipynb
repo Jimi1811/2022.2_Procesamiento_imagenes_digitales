{
 "cells": [
  {
   "cell_type": "code",
   "execution_count": null,
   "metadata": {},
   "outputs": [],
   "source": []
  },
  {
   "cell_type": "code",
   "execution_count": 2,
   "metadata": {},
   "outputs": [
    {
     "ename": "KeyboardInterrupt",
     "evalue": "",
     "output_type": "error",
     "traceback": [
      "\u001b[0;31m---------------------------------------------------------------------------\u001b[0m",
      "\u001b[0;31mKeyboardInterrupt\u001b[0m                         Traceback (most recent call last)",
      "\u001b[1;32m/Users/jimfabian/Desktop/2022.2_Procesamiento_imagenes_digitales/Classes/Abrir_video.ipynb Cell 2\u001b[0m in \u001b[0;36m<cell line: 8>\u001b[0;34m()\u001b[0m\n\u001b[1;32m      <a href='vscode-notebook-cell:/Users/jimfabian/Desktop/2022.2_Procesamiento_imagenes_digitales/Classes/Abrir_video.ipynb#W1sZmlsZQ%3D%3D?line=5'>6</a>\u001b[0m cap \u001b[39m=\u001b[39m cv2\u001b[39m.\u001b[39mVideoCapture(\u001b[39m'\u001b[39m\u001b[39mVideo_soldadura.mp4\u001b[39m\u001b[39m'\u001b[39m)\n\u001b[1;32m      <a href='vscode-notebook-cell:/Users/jimfabian/Desktop/2022.2_Procesamiento_imagenes_digitales/Classes/Abrir_video.ipynb#W1sZmlsZQ%3D%3D?line=7'>8</a>\u001b[0m \u001b[39mwhile\u001b[39;00m(cap\u001b[39m.\u001b[39misOpened()):\n\u001b[0;32m---> <a href='vscode-notebook-cell:/Users/jimfabian/Desktop/2022.2_Procesamiento_imagenes_digitales/Classes/Abrir_video.ipynb#W1sZmlsZQ%3D%3D?line=9'>10</a>\u001b[0m   ret, frame \u001b[39m=\u001b[39m cap\u001b[39m.\u001b[39;49mread()\n\u001b[1;32m     <a href='vscode-notebook-cell:/Users/jimfabian/Desktop/2022.2_Procesamiento_imagenes_digitales/Classes/Abrir_video.ipynb#W1sZmlsZQ%3D%3D?line=10'>11</a>\u001b[0m   \u001b[39mif\u001b[39;00m ret \u001b[39m==\u001b[39m \u001b[39mTrue\u001b[39;00m:\n\u001b[1;32m     <a href='vscode-notebook-cell:/Users/jimfabian/Desktop/2022.2_Procesamiento_imagenes_digitales/Classes/Abrir_video.ipynb#W1sZmlsZQ%3D%3D?line=11'>12</a>\u001b[0m     \u001b[39m# neo_frame = cv2.resize(frame,(0,0),fx=0.2,fy=0.2)\u001b[39;00m\n\u001b[1;32m     <a href='vscode-notebook-cell:/Users/jimfabian/Desktop/2022.2_Procesamiento_imagenes_digitales/Classes/Abrir_video.ipynb#W1sZmlsZQ%3D%3D?line=12'>13</a>\u001b[0m     \u001b[39m# gray = cv2.cvtColor(neo_frame,cv2.COLOR_BGR2GRAY)\u001b[39;00m\n\u001b[0;32m   (...)\u001b[0m\n\u001b[1;32m     <a href='vscode-notebook-cell:/Users/jimfabian/Desktop/2022.2_Procesamiento_imagenes_digitales/Classes/Abrir_video.ipynb#W1sZmlsZQ%3D%3D?line=17'>18</a>\u001b[0m \n\u001b[1;32m     <a href='vscode-notebook-cell:/Users/jimfabian/Desktop/2022.2_Procesamiento_imagenes_digitales/Classes/Abrir_video.ipynb#W1sZmlsZQ%3D%3D?line=18'>19</a>\u001b[0m     \u001b[39m# PAra vsc\u001b[39;00m\n\u001b[1;32m     <a href='vscode-notebook-cell:/Users/jimfabian/Desktop/2022.2_Procesamiento_imagenes_digitales/Classes/Abrir_video.ipynb#W1sZmlsZQ%3D%3D?line=19'>20</a>\u001b[0m     cv2\u001b[39m.\u001b[39mimshow(\u001b[39m'\u001b[39m\u001b[39mvideo\u001b[39m\u001b[39m'\u001b[39m,frame)\n",
      "\u001b[0;31mKeyboardInterrupt\u001b[0m: "
     ]
    }
   ],
   "source": [
    "#from google.colab.patches import cv2_imshow\n",
    "import cv2\n",
    "import numpy as np\n",
    "import matplotlib\n",
    "\n",
    "cap = cv2.VideoCapture('Video_soldadura.mp4')\n",
    "\n",
    "while(cap.isOpened()):\n",
    "\n",
    "  ret, frame = cap.read()\n",
    "  if ret == True:\n",
    "    # neo_frame = cv2.resize(frame,(0,0),fx=0.2,fy=0.2)\n",
    "    # gray = cv2.cvtColor(neo_frame,cv2.COLOR_BGR2GRAY)\n",
    "    # print('tamanho de imagen', gray.shape)\n",
    "    \n",
    "    # PAra google collab\n",
    "    # cv2_imshow(frame)\n",
    "\n",
    "    # PAra vsc\n",
    "    cv2.imshow('video',frame)\n",
    "\n",
    "    if cv2.waitKey(1) & 0xFF == ord('q'):\n",
    "      break\n",
    "  else: \n",
    "    break\n",
    "\n",
    "cap.release()\n",
    "\n",
    "cv2.destroyAllWindows()"
   ]
  },
  {
   "cell_type": "code",
   "execution_count": 4,
   "metadata": {},
   "outputs": [],
   "source": [
    "#from google.colab.patches import cv2_imshow\n",
    "import cv2\n",
    "import numpy as np\n",
    "import matplotlib\n",
    "\n",
    "cap = cv2.VideoCapture('Video_soldadura.mp4')\n",
    "\n",
    "while(cap.isOpened()):\n",
    "\n",
    "  ret, frame = cap.read()\n",
    "  if ret == True:\n",
    "    # neo_frame = cv2.resize(frame,(0,0),fx=0.2,fy=0.2)\n",
    "    # gray = cv2.cvtColor(neo_frame,cv2.COLOR_BGR2GRAY)\n",
    "    # print('tamanho de imagen', gray.shape)\n",
    "    \n",
    "    # PAra google collab\n",
    "    # cv2_imshow(frame)\n",
    "\n",
    "    # PAra vsc\n",
    "    cv2.imshow('video',frame)\n",
    "\n",
    "    if cv2.waitKey(1) & 0xFF == ord('q'):\n",
    "      break\n",
    "  else: \n",
    "    break\n",
    "\n",
    "cap.release()\n",
    "\n",
    "cv2.destroyAllWindows()"
   ]
  }
 ],
 "metadata": {
  "kernelspec": {
   "display_name": "Python 3.10.6 64-bit",
   "language": "python",
   "name": "python3"
  },
  "language_info": {
   "codemirror_mode": {
    "name": "ipython",
    "version": 3
   },
   "file_extension": ".py",
   "mimetype": "text/x-python",
   "name": "python",
   "nbconvert_exporter": "python",
   "pygments_lexer": "ipython3",
   "version": "3.10.6"
  },
  "orig_nbformat": 4,
  "vscode": {
   "interpreter": {
    "hash": "aee8b7b246df8f9039afb4144a1f6fd8d2ca17a180786b69acc140d282b71a49"
   }
  }
 },
 "nbformat": 4,
 "nbformat_minor": 2
}
