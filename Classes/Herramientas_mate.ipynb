{
 "cells": [
  {
   "cell_type": "code",
   "execution_count": null,
   "metadata": {},
   "outputs": [],
   "source": [
    "import cv2\n",
    "import matplotlib.pyplot as plt\n",
    "import numpy as np\n",
    "# from google.colab.patches import cv2_imshow\n",
    "print(cv2.__version__)"
   ]
  },
  {
   "cell_type": "markdown",
   "metadata": {},
   "source": [
    "Creando matriz"
   ]
  },
  {
   "cell_type": "code",
   "execution_count": null,
   "metadata": {},
   "outputs": [],
   "source": [
    "matriz = np.zeros((200,200), dtype = np.uint8)\n",
    "\n",
    "print(matriz)\n",
    "cv2.imshow('matriz', matriz)\n",
    "cv2.waitKey(1000) \n",
    "cv2.destroyAllWindows()"
   ]
  },
  {
   "cell_type": "markdown",
   "metadata": {},
   "source": [
    "Agregando un cuadrado"
   ]
  },
  {
   "cell_type": "code",
   "execution_count": null,
   "metadata": {},
   "outputs": [],
   "source": [
    "matriz[120:160,40:80] = 255\n",
    "\n",
    "print(matriz)\n",
    "cv2.imshow('matriz', matriz)\n",
    "cv2.waitKey(1000) \n",
    "cv2.destroyAllWindows()"
   ]
  },
  {
   "cell_type": "markdown",
   "metadata": {},
   "source": [
    "Usando not"
   ]
  },
  {
   "cell_type": "code",
   "execution_count": null,
   "metadata": {},
   "outputs": [],
   "source": [
    "# Usando logica\n",
    "# matriz_neg = 255 - matriz\n",
    "\n",
    "# Usando cv2\n",
    "matriz_neg = cv2.bitwise_not(matriz)\n",
    "print(matriz_neg)\n",
    "cv2.imshow('matriz', matriz_neg)\n",
    "cv2.waitKey(1500) \n",
    "cv2.destroyAllWindows()\n",
    "\n",
    "plt.imshow(matriz_neg,'gray')\n",
    "\n",
    "print(type(matriz), matriz.dtype)"
   ]
  },
  {
   "cell_type": "markdown",
   "metadata": {},
   "source": [
    "Con Lenna"
   ]
  },
  {
   "cell_type": "code",
   "execution_count": null,
   "metadata": {},
   "outputs": [],
   "source": [
    "# Lenna en gris\n",
    "Lenna = cv2.imread('Lenna.jpg',0)\n",
    "# Tamaño\n",
    "print(Lenna.shape)\n",
    "\n",
    "cv2.imshow('Lenna',Lenna)\n",
    "cv2.waitKey(1500) \n",
    "cv2.destroyAllWindows()"
   ]
  },
  {
   "cell_type": "markdown",
   "metadata": {},
   "source": [
    "Creando máscaras"
   ]
  },
  {
   "cell_type": "code",
   "execution_count": null,
   "metadata": {},
   "outputs": [],
   "source": [
    "mascara = np.zeros((Lenna.shape),dtype = np.uint8)\n",
    "mascara[200:400,200:400] = 255\n",
    "plt.imshow(mascara,'gray')\n",
    "print(mascara, mascara.shape, mascara.dtype)"
   ]
  },
  {
   "cell_type": "markdown",
   "metadata": {},
   "source": [
    "Multiplicando"
   ]
  },
  {
   "cell_type": "code",
   "execution_count": null,
   "metadata": {},
   "outputs": [],
   "source": [
    "Lenna_and = cv2.bitwise_and(Lenna,mascara)\n",
    "\n",
    "plt.imshow(Lenna_and,'gray')\n",
    "\n",
    "cv2.imshow('Lenna',Lenna_and)\n",
    "cv2.waitKey(1500) \n",
    "cv2.destroyAllWindows()"
   ]
  },
  {
   "cell_type": "markdown",
   "metadata": {},
   "source": [
    "Usando un marco"
   ]
  },
  {
   "cell_type": "code",
   "execution_count": null,
   "metadata": {},
   "outputs": [],
   "source": [
    "marco = 20\n",
    "max_bit = 255\n",
    "mascara[:marco,:] = max_bit\n",
    "mascara[-marco:,:] = max_bit\n",
    "mascara[:,:marco] = max_bit\n",
    "mascara[:,-marco:] = max_bit\n",
    "\n",
    "plt.imshow(mascara,'gray')\n",
    "\n",
    "Lenna_marco = cv2.bitwise_and(Lenna,mascara)\n",
    "\n",
    "plt.imshow(Lenna_marco,'gray')\n",
    "\n",
    "cv2.imshow('Lenna',Lenna_marco)\n",
    "cv2.waitKey(1500) \n",
    "cv2.destroyAllWindows()"
   ]
  },
  {
   "cell_type": "markdown",
   "metadata": {},
   "source": [
    "Usando transformaciones geométricas"
   ]
  },
  {
   "cell_type": "code",
   "execution_count": null,
   "metadata": {},
   "outputs": [],
   "source": [
    "img = cv2.imread('Lenna.jpg')\n",
    "\n",
    "(B,G,R) = img[100,100]\n",
    "\n",
    "# Para imprimir valor de las capas RGB\n",
    "print('B: ', B, 'G: ', G, 'R: ', R)\n"
   ]
  },
  {
   "cell_type": "markdown",
   "metadata": {},
   "source": [
    "Recortar imagen "
   ]
  },
  {
   "cell_type": "code",
   "execution_count": null,
   "metadata": {},
   "outputs": [],
   "source": [
    "img_crop = img[0:420, 0:600]\n",
    "print(img_crop.shape)\n",
    "plt.imshow(img_crop)"
   ]
  },
  {
   "cell_type": "markdown",
   "metadata": {},
   "source": [
    "Rotación de imagen y escala"
   ]
  },
  {
   "cell_type": "code",
   "execution_count": null,
   "metadata": {},
   "outputs": [],
   "source": [
    "# Altura, ancho, profundidad\n",
    "(h,w,d) = img_crop.shape\n",
    "print('heigh: ', h, 'width: ', w, 'depth: ', d)\n",
    "\n",
    "# centro\n",
    "center = (w // 2, h //2)\n",
    "print('centro: ', center)\n",
    "\n",
    "# Matriz de rotación respecto al eje central\n",
    "M = cv2.getRotationMatrix2D(center, -45, 1)\n",
    "print('Matriz de rotación: \\n', M)\n",
    "\n",
    "#  Imagen rotada\n",
    "rotated = cv2.warpAffine(img_crop, M, (w,h))\n",
    "plt.imshow(rotated)\n",
    "print('Tamaño de la foto rotada: ', rotated.shape)\n"
   ]
  },
  {
   "cell_type": "markdown",
   "metadata": {},
   "source": [
    "Traslación de imagen\n"
   ]
  },
  {
   "cell_type": "code",
   "execution_count": null,
   "metadata": {},
   "outputs": [],
   "source": [
    "# Matriz de traslacion\n",
    "M_t = np.float32([[1,0,100],[0,1,50]])\n",
    "print('Matriz de traslación: \\n', M)\n",
    "print('Se moverá 100 puntos a la derecha y 50 puntos hacia abajo.')\n",
    "\n",
    "dst = cv2.warpAffine(rotated,M_t,(w,h))\n",
    "\n",
    "# plt.imshow(dst)\n",
    "cv2.imshow('dst',dst)\n",
    "cv2.waitKey(1500) \n",
    "cv2.destroyAllWindows()"
   ]
  },
  {
   "cell_type": "code",
   "execution_count": 67,
   "metadata": {},
   "outputs": [
    {
     "name": "stdout",
     "output_type": "stream",
     "text": [
      "[[ 1.99673462e-16 -1.00000000e+00  5.10000000e+02]\n",
      " [ 1.00000000e+00  1.79380389e-16 -9.00000000e+01]]\n"
     ]
    }
   ],
   "source": [
    "M_n = np.vstack([M,(0,0,1)])\n",
    "M_t_n = np.vstack([M,(0,0,1)])\n",
    "Matriz = M_n.dot(M_t_n)\n",
    "Matriz = Matriz[0:2,:]\n",
    "print(Matriz)\n",
    "\n",
    "imagen = cv2.warpAffine(rotated,M_t,(w,h))\n",
    "\n",
    "# plt.imshow(dst)\n",
    "cv2.imshow('dst',imagen)\n",
    "cv2.waitKey(1500) \n",
    "cv2.destroyAllWindows()"
   ]
  }
 ],
 "metadata": {
  "kernelspec": {
   "display_name": "Python 3.10.6 64-bit",
   "language": "python",
   "name": "python3"
  },
  "language_info": {
   "codemirror_mode": {
    "name": "ipython",
    "version": 3
   },
   "file_extension": ".py",
   "mimetype": "text/x-python",
   "name": "python",
   "nbconvert_exporter": "python",
   "pygments_lexer": "ipython3",
   "version": "3.10.6"
  },
  "orig_nbformat": 4,
  "vscode": {
   "interpreter": {
    "hash": "aee8b7b246df8f9039afb4144a1f6fd8d2ca17a180786b69acc140d282b71a49"
   }
  }
 },
 "nbformat": 4,
 "nbformat_minor": 2
}
