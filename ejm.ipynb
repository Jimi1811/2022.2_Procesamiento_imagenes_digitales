{
 "cells": [
  {
   "cell_type": "code",
   "execution_count": 3,
   "metadata": {},
   "outputs": [],
   "source": [
    "# ============Pregunta 2 (8pts)============\n",
    "\n",
    "def resolviendo_el_mensaje(mensaje_copiado, horas, mensaje_encriptado, R):\n",
    "    # Codigo para Pregunta 2 comienza aqui\n",
    "    import numpy as np\n",
    "\n",
    "    mensaje_desencriptado = \"\"\n",
    "    mensaje_ordenado = \"\" \n",
    "    es_copia = False # Usar esta variable para averiguar si es una copia (True) o no (False)\n",
    "\n",
    "\n",
    "    mensaje_encriptado = [int(ord(i)) for i in mensaje_encriptado]\n",
    "    arreglo = np.arange(97,123)\n",
    "    arreglo = arreglo[::-1]\n",
    "\n",
    "    for i in mensaje_encriptado:\n",
    "        if i == 36:\n",
    "            mensaje_desencriptado += \".\"\n",
    "        elif i == 38:\n",
    "            mensaje_desencriptado += \",\"\n",
    "        elif i == 47:\n",
    "            mensaje_desencriptado += \" \"\n",
    "        else:\n",
    "            for j in range(len(arreglo)):\n",
    "                if i == arreglo[j]:\n",
    "                    z = arreglo[j - horas]\n",
    "                    mensaje_desencriptado += chr(z)\n",
    "\n",
    "    def mover(mensaje_copiado):\n",
    "        lista = mensaje_copiado.split(\" \")\n",
    "        palabra = lista[-1]\n",
    "        lista.pop()\n",
    "        lista.insert(0, palabra)\n",
    "        mensaje_copiado2 = \"\"\n",
    "        for i in range(len(lista) - 1):\n",
    "            mensaje_copiado2 = mensaje_copiado2 + lista[i] + \" \"\n",
    "            mensaje_copiado2 = mensaje_copiado2 + lista[-1]\n",
    "            return mensaje_copiado2\n",
    "\n",
    "    for i in range(R):\n",
    "        mensaje_copiado = mover(mensaje_copiado)\n",
    "    print(mensaje_copiado)\n",
    "\n",
    "    if mensaje_desencriptado == mensaje_copiado:\n",
    "        es_copia = True\n",
    "    else:\n",
    "        es_copia = False\n",
    "        # Codigo para Pregunta 2 acaba aqui\n",
    "\n",
    "    resultado_final = [mensaje_desencriptado, mensaje_ordenado, es_copia]\n",
    "    return resultado_final\n",
    "\n",
    "    "
   ]
  },
  {
   "cell_type": "code",
   "execution_count": 5,
   "metadata": {},
   "outputs": [
    {
     "name": "stdout",
     "output_type": "stream",
     "text": [
      "gil soy\n",
      "<function resolviendo_el_mensaje at 0x10ff30670>\n"
     ]
    }
   ],
   "source": [
    "resolviendo_el_mensaje(\"soy gil\",3,\"gil/soy\",9)\n",
    "print(resolviendo_el_mensaje)\n"
   ]
  }
 ],
 "metadata": {
  "kernelspec": {
   "display_name": "Python 3",
   "language": "python",
   "name": "python3"
  },
  "language_info": {
   "codemirror_mode": {
    "name": "ipython",
    "version": 3
   },
   "file_extension": ".py",
   "mimetype": "text/x-python",
   "name": "python",
   "nbconvert_exporter": "python",
   "pygments_lexer": "ipython3",
   "version": "3.10.6"
  },
  "orig_nbformat": 4,
  "vscode": {
   "interpreter": {
    "hash": "aee8b7b246df8f9039afb4144a1f6fd8d2ca17a180786b69acc140d282b71a49"
   }
  }
 },
 "nbformat": 4,
 "nbformat_minor": 2
}
